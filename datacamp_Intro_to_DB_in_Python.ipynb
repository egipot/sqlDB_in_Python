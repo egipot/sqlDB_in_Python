{
  "nbformat": 4,
  "nbformat_minor": 0,
  "metadata": {
    "colab": {
      "provenance": [],
      "authorship_tag": "ABX9TyNp1ckt34WZUA4REpO1TB7V",
      "include_colab_link": true
    },
    "kernelspec": {
      "name": "python3",
      "display_name": "Python 3"
    },
    "language_info": {
      "name": "python"
    }
  },
  "cells": [
    {
      "cell_type": "markdown",
      "metadata": {
        "id": "view-in-github",
        "colab_type": "text"
      },
      "source": [
        "<a href=\"https://colab.research.google.com/github/egipot/sqlDB_in_Python/blob/main/datacamp_Intro_to_DB_in_Python.ipynb\" target=\"_parent\"><img src=\"https://colab.research.google.com/assets/colab-badge.svg\" alt=\"Open In Colab\"/></a>"
      ]
    },
    {
      "cell_type": "markdown",
      "source": [
        "# **https://app.datacamp.com/learn/courses/introduction-to-relational-databases-in-python**\n",
        "\n",
        "***Introduction to databases ***"
      ],
      "metadata": {
        "id": "qDVE6WpynzE1"
      }
    },
    {
      "cell_type": "code",
      "source": [
        "#Additional reference: https://docs.sqlalchemy.org/en/20/core/engines.html#database-urls"
      ],
      "metadata": {
        "id": "2V9h24BCokwV"
      },
      "execution_count": 12,
      "outputs": []
    },
    {
      "cell_type": "code",
      "execution_count": 3,
      "metadata": {
        "colab": {
          "base_uri": "https://localhost:8080/"
        },
        "id": "UrD1xjhOkBMg",
        "outputId": "5bc18aa3-6c42-4941-cf3e-256a45154a99"
      },
      "outputs": [
        {
          "output_type": "stream",
          "name": "stdout",
          "text": [
            "2.0.29\n"
          ]
        }
      ],
      "source": [
        "import sqlalchemy\n",
        "\n",
        "print(sqlalchemy.__version__)"
      ]
    },
    {
      "cell_type": "code",
      "source": [
        "from sqlalchemy import create_engine\n",
        "engine = create_engine('sqlite:///census_city.sqlite')\n",
        "connection = engine.connect()"
      ],
      "metadata": {
        "id": "pYlM5m4bkyaZ"
      },
      "execution_count": 4,
      "outputs": []
    },
    {
      "cell_type": "code",
      "source": [
        "print(engine)"
      ],
      "metadata": {
        "colab": {
          "base_uri": "https://localhost:8080/"
        },
        "id": "zcaguz60lAv8",
        "outputId": "334e850e-8902-40e1-9d0b-629b4acca977"
      },
      "execution_count": 6,
      "outputs": [
        {
          "output_type": "stream",
          "name": "stdout",
          "text": [
            "Engine(sqlite:///census_city.sqlite)\n"
          ]
        }
      ]
    },
    {
      "cell_type": "code",
      "source": [
        "# Import create_engine\n",
        "from sqlalchemy import create_engine\n",
        "\n",
        "# Create an engine that connects to the census.sqlite file: engine\n",
        "engine = create_engine('sqlite:///census.sqlite')\n",
        "\n",
        "# Print table names\n",
        "print(engine.table_names())\n"
      ],
      "metadata": {
        "id": "ca1nFmV2qwu-"
      },
      "execution_count": null,
      "outputs": []
    },
    {
      "cell_type": "markdown",
      "source": [
        "['census', 'state_fact']"
      ],
      "metadata": {
        "id": "Gm-hBPhbqtfJ"
      }
    },
    {
      "cell_type": "code",
      "source": [
        "# Import create_engine, MetaData, and Table\n",
        "from sqlalchemy import create_engine, MetaData, Table\n",
        "\n",
        "# Create engine: engine\n",
        "engine = create_engine('sqlite:///census.sqlite')\n",
        "\n",
        "# Create a metadata object: metadata\n",
        "metadata = MetaData()\n",
        "\n",
        "# Reflect census table from the engine: census\n",
        "census = Table('census', metadata, autoload=True, autoload_with=engine)\n",
        "\n",
        "# Print census table metadata\n",
        "print(repr(census))\n"
      ],
      "metadata": {
        "id": "R9zZG2arq2VL"
      },
      "execution_count": null,
      "outputs": []
    },
    {
      "cell_type": "markdown",
      "source": [
        "Table('census', MetaData(), Column('state', VARCHAR(length=30), table=<census>), Column('sex', VARCHAR(length=1), table=<census>), Column('age', INTEGER(), table=<census>), Column('pop2000', INTEGER(), table=<census>), Column('pop2008', INTEGER(), table=<census>), schema=None)"
      ],
      "metadata": {
        "id": "Fwz6yRvVq-fg"
      }
    },
    {
      "cell_type": "code",
      "source": [
        "from sqlalchemy import create_engine, MetaData, Table\n",
        "\n",
        "engine = create_engine('sqlite:///census.sqlite')\n",
        "\n",
        "metadata = MetaData()\n",
        "\n",
        "# Reflect the census table from the engine: census\n",
        "census = Table('census', metadata, autoload=True, autoload_with=engine)\n",
        "\n",
        "# Print the column names\n",
        "print(census.columns.keys())\n",
        "\n",
        "# Print full metadata of census\n",
        "print(repr(census))\n"
      ],
      "metadata": {
        "id": "2HNXFMKPrDss"
      },
      "execution_count": null,
      "outputs": []
    },
    {
      "cell_type": "markdown",
      "source": [
        "['state', 'sex', 'age', 'pop2000', 'pop2008']\n",
        "Table('census', MetaData(), Column('state', VARCHAR(length=30), table=<census>), Column('sex', VARCHAR(length=1), table=<census>), Column('age', INTEGER(), table=<census>), Column('pop2000', INTEGER(), table=<census>), Column('pop2008', INTEGER(), table=<census>), schema=None)"
      ],
      "metadata": {
        "id": "RvAtqqJjrKRa"
      }
    },
    {
      "cell_type": "markdown",
      "source": [
        "**Introduction to SQL queries**"
      ],
      "metadata": {
        "id": "u-_kxIpZriH1"
      }
    },
    {
      "cell_type": "code",
      "source": [],
      "metadata": {
        "id": "0fjZVoiSrPRg"
      },
      "execution_count": null,
      "outputs": []
    }
  ]
}